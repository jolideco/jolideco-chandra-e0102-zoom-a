{
 "cells": [
  {
   "cell_type": "markdown",
   "id": "e8bacaaf",
   "metadata": {},
   "source": [
    "# Jolideco Analysis of Chandra Data of E0102"
   ]
  },
  {
   "cell_type": "code",
   "execution_count": null,
   "id": "f5fb5561",
   "metadata": {
    "execution": {
     "iopub.execute_input": "2023-09-12T12:49:20.070557Z",
     "iopub.status.busy": "2023-09-12T12:49:20.070428Z",
     "iopub.status.idle": "2023-09-12T12:49:20.073804Z",
     "shell.execute_reply": "2023-09-12T12:49:20.073485Z"
    }
   },
   "outputs": [],
   "source": [
    "# import os\n",
    "\n",
    "# os.environ.setdefault('JOLIDECO_GMM_LIBRARY', '/Users/adonath/github/jolideco/jolideco-gmm-prior-library')"
   ]
  },
  {
   "cell_type": "code",
   "execution_count": null,
   "id": "0f81b802",
   "metadata": {
    "execution": {
     "iopub.execute_input": "2023-09-12T12:49:20.075672Z",
     "iopub.status.busy": "2023-09-12T12:49:20.075552Z",
     "iopub.status.idle": "2023-09-12T12:49:22.279731Z",
     "shell.execute_reply": "2023-09-12T12:49:22.279372Z"
    }
   },
   "outputs": [],
   "source": [
    "import numpy as np\n",
    "from pathlib import Path\n",
    "from matplotlib import pyplot as plt\n",
    "import matplotlib as mpl\n",
    "from astropy.visualization import simple_norm\n",
    "\n",
    "from astropy.wcs.wcs import FITSFixedWarning\n",
    "from jolideco.core import MAPDeconvolver, MAPDeconvolverResult\n",
    "from jolideco.utils.numpy import split_datasets_validation\n",
    "from jolideco.models import (\n",
    "    SpatialFluxComponent,\n",
    "    FluxComponents,\n",
    "    NPredModels,\n",
    "    NPredCalibration,\n",
    "    NPredCalibrations\n",
    ")\n",
    "from jolideco.priors import GMMPatchPrior, GaussianMixtureModel\n",
    "from jolideco.utils.norms import IdentityImageNorm\n",
    "from itertools import zip_longest\n",
    "from gammapy.maps import Map"
   ]
  },
  {
   "cell_type": "code",
   "execution_count": null,
   "id": "22935220",
   "metadata": {
    "execution": {
     "iopub.execute_input": "2023-09-12T12:49:22.281941Z",
     "iopub.status.busy": "2023-09-12T12:49:22.281653Z",
     "iopub.status.idle": "2023-09-12T12:49:22.284255Z",
     "shell.execute_reply": "2023-09-12T12:49:22.283551Z"
    }
   },
   "outputs": [],
   "source": [
    "import warnings\n",
    "warnings.filterwarnings(\"ignore\", category=FITSFixedWarning)"
   ]
  },
  {
   "cell_type": "code",
   "execution_count": null,
   "id": "ffce8234",
   "metadata": {
    "execution": {
     "iopub.execute_input": "2023-09-12T12:49:22.286185Z",
     "iopub.status.busy": "2023-09-12T12:49:22.285939Z",
     "iopub.status.idle": "2023-09-12T12:49:22.288331Z",
     "shell.execute_reply": "2023-09-12T12:49:22.287677Z"
    }
   },
   "outputs": [],
   "source": [
    "# # for vscode dark theme\n",
    "# plt.style.use('dark_background')\n",
    "# mpl.rcParams['figure.facecolor'] = '#25292E'\n"
   ]
  },
  {
   "cell_type": "code",
   "execution_count": null,
   "id": "5b53a56c",
   "metadata": {
    "execution": {
     "iopub.execute_input": "2023-09-12T12:49:22.291154Z",
     "iopub.status.busy": "2023-09-12T12:49:22.290990Z",
     "iopub.status.idle": "2023-09-12T12:49:22.294094Z",
     "shell.execute_reply": "2023-09-12T12:49:22.293814Z"
    }
   },
   "outputs": [],
   "source": [
    "if \"snakemake\" in globals():\n",
    "    filenames = [Path(_) for _ in snakemake.input]\n",
    "    filename_jolideco_result = Path(snakemake.output.filename_jolideco_result)\n",
    "    filename_npred_stacked = Path(snakemake.output.filename_npred_stacked)\n",
    "    idx_iter = snakemake.wildcards.idx\n",
    "else:\n",
    "    idx_iter = 0\n",
    "    config_name = \"e0102-zoom-a\"\n",
    "    PATH_BASE = Path(f\"../../results/{config_name}/\")\n",
    "    filenames = list(Path(f\"../../results/{config_name}/\").glob(f\"*/maps-bootstrapped/{config_name}-*-{idx_iter}-counts.fits\"))\n",
    "    filename_jolideco_result = PATH_BASE / \"jolideco\" / f\"{config_name}-result-jolideco.fits\"\n",
    "    filename_npred_stacked = PATH_BASE / \"jolideco\" / \"{config_name}-npred.fits\"\n",
    "\n",
    "obs_id_ref = 8365"
   ]
  },
  {
   "cell_type": "code",
   "execution_count": null,
   "id": "e280bd2c",
   "metadata": {
    "execution": {
     "iopub.execute_input": "2023-09-12T12:49:22.295693Z",
     "iopub.status.busy": "2023-09-12T12:49:22.295569Z",
     "iopub.status.idle": "2023-09-12T12:49:22.298031Z",
     "shell.execute_reply": "2023-09-12T12:49:22.297649Z"
    }
   },
   "outputs": [],
   "source": [
    "filenames_counts = [_ for _ in filenames if \"counts\" in _.name]"
   ]
  },
  {
   "cell_type": "code",
   "execution_count": null,
   "id": "458b46fa",
   "metadata": {
    "execution": {
     "iopub.execute_input": "2023-09-12T12:49:22.300327Z",
     "iopub.status.busy": "2023-09-12T12:49:22.300161Z",
     "iopub.status.idle": "2023-09-12T12:49:22.497040Z",
     "shell.execute_reply": "2023-09-12T12:49:22.496581Z"
    }
   },
   "outputs": [],
   "source": [
    "datasets = {}\n",
    "\n",
    "def read_dataset(filename_counts, idx):\n",
    "    \"\"\"Read counts, exposure and psf maps.\"\"\"\n",
    "    path = filename_counts.parent.parent / \"maps\"\n",
    "    filename_exposure = path / filename_counts.name.replace(f\"iter-{idx}-counts\", \"exposure\")\n",
    "    filename_psf = path  / filename_counts.name.replace(f\"iter-{idx}-counts\", \"e0102-zoom-a-marx-psf\")\n",
    "    counts = Map.read(filename_counts)    \n",
    "\n",
    "    psf = Map.read(filename_psf)\n",
    "    psf = psf.cutout(psf.geom.center_skydir, width=\"15.8 arcsec\")\n",
    "    psf.data /= psf.data.sum()\n",
    "    return {\n",
    "        \"counts\": counts,\n",
    "        \"exposure\": Map.read(filename_exposure),\n",
    "        \"psf\": psf,\n",
    "        \"background\": Map.from_geom(counts.geom) + 1e-2,\n",
    "    }\n",
    "\n",
    "\n",
    "\n",
    "for filename in filenames_counts:\n",
    "    obs_id = filename.parts[-3]\n",
    "    datasets[f\"obs-id-{obs_id}\"] = read_dataset(filename, idx=idx_iter)\n"
   ]
  },
  {
   "attachments": {},
   "cell_type": "markdown",
   "id": "66cf8a5a",
   "metadata": {},
   "source": [
    "## Counts"
   ]
  },
  {
   "cell_type": "code",
   "execution_count": null,
   "id": "0254b8b0",
   "metadata": {
    "execution": {
     "iopub.execute_input": "2023-09-12T12:49:22.499343Z",
     "iopub.status.busy": "2023-09-12T12:49:22.499178Z",
     "iopub.status.idle": "2023-09-12T12:49:22.502002Z",
     "shell.execute_reply": "2023-09-12T12:49:22.501620Z"
    }
   },
   "outputs": [],
   "source": [
    "stacked = Map.from_geom(datasets[f\"obs-id-{obs_id_ref}\"][\"counts\"].geom)\n",
    "\n",
    "for name, dataset in datasets.items():\n",
    "    stacked += dataset[\"counts\"]"
   ]
  },
  {
   "cell_type": "code",
   "execution_count": null,
   "id": "67e15d10",
   "metadata": {
    "execution": {
     "iopub.execute_input": "2023-09-12T12:49:22.504003Z",
     "iopub.status.busy": "2023-09-12T12:49:22.503827Z",
     "iopub.status.idle": "2023-09-12T12:49:22.805144Z",
     "shell.execute_reply": "2023-09-12T12:49:22.804612Z"
    }
   },
   "outputs": [],
   "source": [
    "stacked.plot(cmap=\"viridis\", add_cbar=True);"
   ]
  },
  {
   "cell_type": "markdown",
   "id": "3db3b196",
   "metadata": {},
   "source": [
    "## PSF"
   ]
  },
  {
   "cell_type": "code",
   "execution_count": null,
   "id": "0bd29f06",
   "metadata": {
    "execution": {
     "iopub.execute_input": "2023-09-12T12:49:22.807310Z",
     "iopub.status.busy": "2023-09-12T12:49:22.807131Z",
     "iopub.status.idle": "2023-09-12T12:49:25.118005Z",
     "shell.execute_reply": "2023-09-12T12:49:25.115963Z"
    }
   },
   "outputs": [],
   "source": [
    "wcs = datasets[f\"obs-id-{obs_id_ref}\"][\"psf\"].geom.wcs\n",
    "\n",
    "fig, axes = plt.subplots(\n",
    "    ncols=5,\n",
    "    nrows=5,\n",
    "    subplot_kw={\"projection\": wcs},\n",
    "    figsize=(12, 12)\n",
    ")\n",
    "\n",
    "for ax, (name, dataset) in zip(axes.flat, datasets.items()):\n",
    "    psf = dataset[\"psf\"]\n",
    "    psf.plot(ax=ax, cmap=\"viridis\", add_cbar=True, stretch=\"log\", vmin=0)\n",
    "    ax.set_title(f\"{name}\")\n",
    "    ax.axis(\"off\")\n"
   ]
  },
  {
   "cell_type": "code",
   "execution_count": null,
   "id": "835d6175",
   "metadata": {
    "execution": {
     "iopub.execute_input": "2023-09-12T12:49:25.122227Z",
     "iopub.status.busy": "2023-09-12T12:49:25.121664Z",
     "iopub.status.idle": "2023-09-12T12:49:25.127855Z",
     "shell.execute_reply": "2023-09-12T12:49:25.127215Z"
    }
   },
   "outputs": [],
   "source": [
    "def to_jolideco_dataset(maps, dtype=np.float32):\n",
    "    \"\"\"Convert Gammapy maps to Jolideco dataset.\"\"\"\n",
    "    return {\n",
    "        \"counts\": maps[\"counts\"].data.astype(dtype),\n",
    "        \"background\": maps[\"background\"].data.astype(dtype),\n",
    "        \"psf\": {\"e0102\": maps[\"psf\"].data.astype(dtype)},\n",
    "        \"exposure\": maps[\"exposure\"].data.astype(dtype),\n",
    "    }"
   ]
  },
  {
   "cell_type": "code",
   "execution_count": null,
   "id": "cbc2a6d3",
   "metadata": {
    "execution": {
     "iopub.execute_input": "2023-09-12T12:49:25.130204Z",
     "iopub.status.busy": "2023-09-12T12:49:25.130018Z",
     "iopub.status.idle": "2023-09-12T12:49:25.132749Z",
     "shell.execute_reply": "2023-09-12T12:49:25.132359Z"
    }
   },
   "outputs": [],
   "source": [
    "datasets_jolideco = {name: to_jolideco_dataset(maps) for name, maps in datasets.items()}"
   ]
  },
  {
   "cell_type": "markdown",
   "id": "80aa55ef",
   "metadata": {},
   "source": [
    "## Run Jolideco"
   ]
  },
  {
   "cell_type": "code",
   "execution_count": null,
   "id": "727e9a30",
   "metadata": {
    "execution": {
     "iopub.execute_input": "2023-09-12T12:49:25.135010Z",
     "iopub.status.busy": "2023-09-12T12:49:25.134733Z",
     "iopub.status.idle": "2023-09-12T12:49:25.459815Z",
     "shell.execute_reply": "2023-09-12T12:49:25.455482Z"
    }
   },
   "outputs": [],
   "source": [
    "gmm = GaussianMixtureModel.from_registry(\"jwst-cas-a-v0.1\")\n",
    "gmm.meta.stride = 4\n",
    "print(gmm)"
   ]
  },
  {
   "cell_type": "code",
   "execution_count": null,
   "id": "94fda164",
   "metadata": {
    "execution": {
     "iopub.execute_input": "2023-09-12T12:49:25.472075Z",
     "iopub.status.busy": "2023-09-12T12:49:25.471877Z",
     "iopub.status.idle": "2023-09-12T12:49:28.625826Z",
     "shell.execute_reply": "2023-09-12T12:49:28.622336Z"
    }
   },
   "outputs": [],
   "source": [
    "gmm.plot_mean_images(ncols=16, figsize=(12, 8))"
   ]
  },
  {
   "cell_type": "code",
   "execution_count": null,
   "id": "b75aef1a",
   "metadata": {
    "execution": {
     "iopub.execute_input": "2023-09-12T12:49:28.632731Z",
     "iopub.status.busy": "2023-09-12T12:49:28.632142Z",
     "iopub.status.idle": "2023-09-12T12:49:28.787900Z",
     "shell.execute_reply": "2023-09-12T12:49:28.787296Z"
    }
   },
   "outputs": [],
   "source": [
    "patch_prior = GMMPatchPrior(\n",
    "    gmm=gmm,\n",
    "    cycle_spin=True,\n",
    "    cycle_spin_subpix=True,\n",
    "    norm=IdentityImageNorm()\n",
    ")\n",
    "\n",
    "\n",
    "shape = datasets_jolideco[f\"obs-id-{obs_id_ref}\"][\"counts\"].shape\n",
    "flux_init = np.random.normal(loc=3, scale=0.01, size=shape).astype(np.float32)\n",
    "\n",
    "component = SpatialFluxComponent.from_numpy(\n",
    "    flux=flux_init,\n",
    "    prior=patch_prior,\n",
    "    use_log_flux=True,\n",
    "    upsampling_factor=2,\n",
    ")\n",
    "\n",
    "\n",
    "components = FluxComponents()\n",
    "components[\"e0102\"] = component\n",
    "\n",
    "print(components)"
   ]
  },
  {
   "cell_type": "code",
   "execution_count": null,
   "id": "f4434945",
   "metadata": {
    "execution": {
     "iopub.execute_input": "2023-09-12T12:49:28.790185Z",
     "iopub.status.busy": "2023-09-12T12:49:28.789927Z",
     "iopub.status.idle": "2023-09-12T12:49:28.793440Z",
     "shell.execute_reply": "2023-09-12T12:49:28.792936Z"
    }
   },
   "outputs": [],
   "source": [
    "calibrations = NPredCalibrations()\n",
    "\n",
    "for name in datasets_jolideco:\n",
    "    calibration = NPredCalibration(background_norm=1., frozen=False)\n",
    "    calibrations[name] = calibration\n",
    "\n",
    "\n",
    "calibrations[f\"obs-id-{obs_id_ref}\"].shift_xy.requires_grad = False\n",
    "\n",
    "print(calibrations)"
   ]
  },
  {
   "cell_type": "code",
   "execution_count": null,
   "id": "023bf20d",
   "metadata": {
    "execution": {
     "iopub.execute_input": "2023-09-12T12:49:28.797421Z",
     "iopub.status.busy": "2023-09-12T12:49:28.797195Z",
     "iopub.status.idle": "2023-09-12T12:49:28.801171Z",
     "shell.execute_reply": "2023-09-12T12:49:28.799853Z"
    }
   },
   "outputs": [],
   "source": [
    "deconvolve = MAPDeconvolver(n_epochs=250, learning_rate=0.1, beta=1.)\n",
    "print(deconvolve)"
   ]
  },
  {
   "cell_type": "code",
   "execution_count": null,
   "id": "855f5c2d",
   "metadata": {
    "execution": {
     "iopub.execute_input": "2023-09-12T12:49:28.803269Z",
     "iopub.status.busy": "2023-09-12T12:49:28.803043Z",
     "iopub.status.idle": "2023-09-12T12:49:28.805940Z",
     "shell.execute_reply": "2023-09-12T12:49:28.805564Z"
    }
   },
   "outputs": [],
   "source": [
    "datasets_train = split_datasets_validation(datasets_jolideco, n_validation=0)"
   ]
  },
  {
   "cell_type": "code",
   "execution_count": null,
   "id": "71e75343",
   "metadata": {
    "execution": {
     "iopub.execute_input": "2023-09-12T12:49:28.807654Z",
     "iopub.status.busy": "2023-09-12T12:49:28.807503Z",
     "iopub.status.idle": "2023-09-12T12:51:24.232601Z",
     "shell.execute_reply": "2023-09-12T12:51:24.232044Z"
    }
   },
   "outputs": [],
   "source": [
    "result = deconvolve.run(\n",
    "    components=components,\n",
    "    calibrations=calibrations,\n",
    "    **datasets_train,\n",
    ")"
   ]
  },
  {
   "cell_type": "code",
   "execution_count": null,
   "id": "580733d4",
   "metadata": {
    "execution": {
     "iopub.execute_input": "2023-09-12T12:51:24.235081Z",
     "iopub.status.busy": "2023-09-12T12:51:24.234948Z",
     "iopub.status.idle": "2023-09-12T12:51:24.237325Z",
     "shell.execute_reply": "2023-09-12T12:51:24.237050Z"
    }
   },
   "outputs": [],
   "source": [
    "#result = MAPDeconvolverResult.read(filename_jolideco_result)"
   ]
  },
  {
   "cell_type": "code",
   "execution_count": null,
   "id": "a3ebda10",
   "metadata": {
    "execution": {
     "iopub.execute_input": "2023-09-12T12:51:24.238839Z",
     "iopub.status.busy": "2023-09-12T12:51:24.238746Z",
     "iopub.status.idle": "2023-09-12T12:51:24.487836Z",
     "shell.execute_reply": "2023-09-12T12:51:24.487303Z"
    }
   },
   "outputs": [],
   "source": [
    "plt.figure(figsize=(12, 8))\n",
    "result.plot_trace_loss()\n",
    "plt.legend(loc=\"upper center\", ncols=4)"
   ]
  },
  {
   "cell_type": "markdown",
   "id": "7deb480d",
   "metadata": {},
   "source": [
    "## Results"
   ]
  },
  {
   "cell_type": "code",
   "execution_count": null,
   "id": "7f0e4523",
   "metadata": {
    "execution": {
     "iopub.execute_input": "2023-09-12T12:51:24.490449Z",
     "iopub.status.busy": "2023-09-12T12:51:24.490135Z",
     "iopub.status.idle": "2023-09-12T12:51:25.667414Z",
     "shell.execute_reply": "2023-09-12T12:51:25.667002Z"
    }
   },
   "outputs": [],
   "source": [
    "counts = np.sum([_[\"counts\"] for _ in datasets_jolideco.values()], axis=0)\n",
    "\n",
    "fig, axes = plt.subplots(\n",
    "    ncols=2,\n",
    "    subplot_kw={\"projection\": wcs},\n",
    "    figsize=(14, 6)\n",
    ")\n",
    "\n",
    "norm_asinh = simple_norm(\n",
    "    counts,\n",
    "    min_cut=0,\n",
    "    max_cut=4,\n",
    "    stretch=\"power\",\n",
    "    power=1.,\n",
    "    asinh_a=0.05\n",
    ")\n",
    "\n",
    "\n",
    "\n",
    "im = axes[0].imshow(counts, origin=\"lower\", interpolation=\"None\")\n",
    "axes[0].set_title(\"Counts\")\n",
    "plt.colorbar(im)\n",
    "\n",
    "im = axes[1].imshow(result.components.flux_upsampled_total_numpy, origin=\"lower\", norm=norm_asinh, interpolation=\"gaussian\")\n",
    "axes[1].set_title(\"Deconvolved\")\n",
    "plt.colorbar(im)"
   ]
  },
  {
   "cell_type": "code",
   "execution_count": null,
   "id": "8b92a26c",
   "metadata": {
    "execution": {
     "iopub.execute_input": "2023-09-12T12:51:25.669390Z",
     "iopub.status.busy": "2023-09-12T12:51:25.669230Z",
     "iopub.status.idle": "2023-09-12T12:51:25.671826Z",
     "shell.execute_reply": "2023-09-12T12:51:25.671444Z"
    }
   },
   "outputs": [],
   "source": [
    "print(calibrations)"
   ]
  },
  {
   "cell_type": "code",
   "execution_count": null,
   "id": "087c0753",
   "metadata": {
    "execution": {
     "iopub.execute_input": "2023-09-12T12:51:25.673629Z",
     "iopub.status.busy": "2023-09-12T12:51:25.673477Z",
     "iopub.status.idle": "2023-09-12T12:51:25.987477Z",
     "shell.execute_reply": "2023-09-12T12:51:25.987159Z"
    }
   },
   "outputs": [],
   "source": [
    "result.write(filename_jolideco_result, overwrite=True)"
   ]
  },
  {
   "cell_type": "markdown",
   "id": "a104aa54",
   "metadata": {},
   "source": [
    "## Residuals"
   ]
  },
  {
   "cell_type": "code",
   "execution_count": null,
   "id": "194ca768",
   "metadata": {
    "execution": {
     "iopub.execute_input": "2023-09-12T12:51:25.989550Z",
     "iopub.status.busy": "2023-09-12T12:51:25.989390Z",
     "iopub.status.idle": "2023-09-12T12:51:25.991592Z",
     "shell.execute_reply": "2023-09-12T12:51:25.991265Z"
    }
   },
   "outputs": [],
   "source": [
    "geom = datasets[f\"obs-id-{obs_id_ref}\"][\"counts\"].geom"
   ]
  },
  {
   "cell_type": "code",
   "execution_count": null,
   "id": "6d40e6eb",
   "metadata": {
    "execution": {
     "iopub.execute_input": "2023-09-12T12:51:25.993252Z",
     "iopub.status.busy": "2023-09-12T12:51:25.993109Z",
     "iopub.status.idle": "2023-09-12T12:51:26.059463Z",
     "shell.execute_reply": "2023-09-12T12:51:26.059099Z"
    }
   },
   "outputs": [],
   "source": [
    "npreds = {}\n",
    "\n",
    "for name, dataset in datasets_jolideco.items():\n",
    "    model = NPredModels.from_dataset_numpy(\n",
    "        dataset=dataset,\n",
    "        components=result.components,\n",
    "    )\n",
    "    \n",
    "    fluxes = result.components.to_flux_tuple()\n",
    "    npred = model.evaluate(fluxes=fluxes).detach().numpy()[0, 0]\n",
    "    npreds[name] =  Map.from_geom(data=npred, geom=geom)\n",
    "    \n",
    "\n",
    "npreds_calibrated = {}\n",
    "\n",
    "for name, dataset in datasets_jolideco.items():\n",
    "    model = NPredModels.from_dataset_numpy(\n",
    "        dataset=dataset,\n",
    "        components=result.components,\n",
    "        calibration=calibrations[name]\n",
    "    )\n",
    "    \n",
    "    fluxes = result.components.to_flux_tuple()\n",
    "    npred = model.evaluate(fluxes=fluxes).detach().numpy()[0, 0]\n",
    "    npreds_calibrated[name] = Map.from_geom(data=npred, geom=geom)\n",
    "    "
   ]
  },
  {
   "cell_type": "code",
   "execution_count": null,
   "id": "ed6dc3cb",
   "metadata": {
    "execution": {
     "iopub.execute_input": "2023-09-12T12:51:26.061163Z",
     "iopub.status.busy": "2023-09-12T12:51:26.061028Z",
     "iopub.status.idle": "2023-09-12T12:51:26.066180Z",
     "shell.execute_reply": "2023-09-12T12:51:26.065841Z"
    }
   },
   "outputs": [],
   "source": [
    "npred_stacked = Map.from_geom(geom=geom)\n",
    "\n",
    "for npred in npreds_calibrated.values():\n",
    "    npred_stacked.stack(npred)\n",
    "\n",
    "\n",
    "npred_stacked.write(filename_npred_stacked, overwrite=True)"
   ]
  },
  {
   "cell_type": "code",
   "execution_count": null,
   "id": "214a7cea",
   "metadata": {
    "execution": {
     "iopub.execute_input": "2023-09-12T12:51:26.068155Z",
     "iopub.status.busy": "2023-09-12T12:51:26.068005Z",
     "iopub.status.idle": "2023-09-12T12:51:26.896107Z",
     "shell.execute_reply": "2023-09-12T12:51:26.895578Z"
    }
   },
   "outputs": [],
   "source": [
    "fig, axes = plt.subplots(\n",
    "    ncols=5,\n",
    "    nrows=5,\n",
    "    subplot_kw={\"projection\": wcs},\n",
    "    gridspec_kw={\"wspace\": 0.2},\n",
    "    figsize=(16, 16)\n",
    ")\n",
    "\n",
    "\n",
    "for name, ax in zip_longest(sorted(datasets_jolideco), axes.flat):\n",
    "    if name is None:\n",
    "        ax.set_visible(False)\n",
    "        continue\n",
    "        \n",
    "    dataset = datasets[name]\n",
    "    counts = dataset[\"counts\"].sum_over_axes(keepdims=False).smooth(5)\n",
    "    npred = npreds[name].smooth(5)\n",
    "    \n",
    "    residual = (counts - npred) / np.sqrt(npred)\n",
    "    \n",
    "    residual.plot(ax=ax, vmin=-0.5, vmax=0.5, cmap=\"RdBu\", add_cbar=True)\n",
    "    ax.set_title(f\"{name}\")"
   ]
  },
  {
   "cell_type": "code",
   "execution_count": null,
   "id": "c56ec67c",
   "metadata": {
    "execution": {
     "iopub.execute_input": "2023-09-12T12:51:26.898097Z",
     "iopub.status.busy": "2023-09-12T12:51:26.897949Z",
     "iopub.status.idle": "2023-09-12T12:51:27.715088Z",
     "shell.execute_reply": "2023-09-12T12:51:27.714263Z"
    }
   },
   "outputs": [],
   "source": [
    "fig, axes = plt.subplots(\n",
    "    ncols=5,\n",
    "    nrows=5,\n",
    "    subplot_kw={\"projection\": wcs},\n",
    "    gridspec_kw={\"wspace\": 0.2},\n",
    "    figsize=(16, 16)\n",
    ")\n",
    "\n",
    "\n",
    "for name, ax in zip_longest(sorted(datasets_jolideco), axes.flat):\n",
    "    if name is None:\n",
    "        ax.set_visible(False)\n",
    "        continue\n",
    "        \n",
    "    dataset = datasets[name]\n",
    "    counts = dataset[\"counts\"].sum_over_axes(keepdims=False).smooth(5)\n",
    "    npred = npreds_calibrated[name].smooth(5)\n",
    "    \n",
    "    residual = (counts - npred) / np.sqrt(npred)\n",
    "    \n",
    "    residual.plot(ax=ax, vmin=-0.5, vmax=0.5, cmap=\"RdBu\", add_cbar=True)\n",
    "    ax.set_title(f\"{name}\")"
   ]
  },
  {
   "cell_type": "code",
   "execution_count": null,
   "id": "a2e183a6",
   "metadata": {
    "execution": {
     "iopub.execute_input": "2023-09-12T12:51:27.717224Z",
     "iopub.status.busy": "2023-09-12T12:51:27.717056Z",
     "iopub.status.idle": "2023-09-12T12:51:27.719340Z",
     "shell.execute_reply": "2023-09-12T12:51:27.719041Z"
    }
   },
   "outputs": [],
   "source": [
    "print(result.calibrations)"
   ]
  }
 ],
 "metadata": {
  "kernelspec": {
   "display_name": "jolideco-fermi-examples",
   "language": "python",
   "name": "python3"
  },
  "language_info": {
   "codemirror_mode": {
    "name": "ipython",
    "version": 3
   },
   "file_extension": ".py",
   "mimetype": "text/x-python",
   "name": "python",
   "nbconvert_exporter": "python",
   "pygments_lexer": "ipython3",
   "version": "3.9.18"
  },
  "vscode": {
   "interpreter": {
    "hash": "963c1a1f1b17d219f498225414ad7aa739a910503c9d7055e7f4a2193586c85e"
   }
  },
  "widgets": {
   "application/vnd.jupyter.widget-state+json": {
    "state": {
     "00dfdd714e3343ca946a0bd32abc7bb9": {
      "model_module": "@jupyter-widgets/base",
      "model_module_version": "2.0.0",
      "model_name": "LayoutModel",
      "state": {
       "_model_module": "@jupyter-widgets/base",
       "_model_module_version": "2.0.0",
       "_model_name": "LayoutModel",
       "_view_count": null,
       "_view_module": "@jupyter-widgets/base",
       "_view_module_version": "2.0.0",
       "_view_name": "LayoutView",
       "align_content": null,
       "align_items": null,
       "align_self": null,
       "border_bottom": null,
       "border_left": null,
       "border_right": null,
       "border_top": null,
       "bottom": null,
       "display": null,
       "flex": null,
       "flex_flow": null,
       "grid_area": null,
       "grid_auto_columns": null,
       "grid_auto_flow": null,
       "grid_auto_rows": null,
       "grid_column": null,
       "grid_gap": null,
       "grid_row": null,
       "grid_template_areas": null,
       "grid_template_columns": null,
       "grid_template_rows": null,
       "height": null,
       "justify_content": null,
       "justify_items": null,
       "left": null,
       "margin": null,
       "max_height": null,
       "max_width": null,
       "min_height": null,
       "min_width": null,
       "object_fit": null,
       "object_position": null,
       "order": null,
       "overflow": null,
       "padding": null,
       "right": null,
       "top": null,
       "visibility": null,
       "width": null
      }
     },
     "13adb2c3ac78442dbf18a0aa6b708579": {
      "model_module": "@jupyter-widgets/controls",
      "model_module_version": "2.0.0",
      "model_name": "ProgressStyleModel",
      "state": {
       "_model_module": "@jupyter-widgets/controls",
       "_model_module_version": "2.0.0",
       "_model_name": "ProgressStyleModel",
       "_view_count": null,
       "_view_module": "@jupyter-widgets/base",
       "_view_module_version": "2.0.0",
       "_view_name": "StyleView",
       "bar_color": null,
       "description_width": ""
      }
     },
     "15714f08b8f04bd1b67a71552ca7f3ef": {
      "model_module": "@jupyter-widgets/base",
      "model_module_version": "2.0.0",
      "model_name": "LayoutModel",
      "state": {
       "_model_module": "@jupyter-widgets/base",
       "_model_module_version": "2.0.0",
       "_model_name": "LayoutModel",
       "_view_count": null,
       "_view_module": "@jupyter-widgets/base",
       "_view_module_version": "2.0.0",
       "_view_name": "LayoutView",
       "align_content": null,
       "align_items": null,
       "align_self": null,
       "border_bottom": null,
       "border_left": null,
       "border_right": null,
       "border_top": null,
       "bottom": null,
       "display": null,
       "flex": null,
       "flex_flow": null,
       "grid_area": null,
       "grid_auto_columns": null,
       "grid_auto_flow": null,
       "grid_auto_rows": null,
       "grid_column": null,
       "grid_gap": null,
       "grid_row": null,
       "grid_template_areas": null,
       "grid_template_columns": null,
       "grid_template_rows": null,
       "height": null,
       "justify_content": null,
       "justify_items": null,
       "left": null,
       "margin": null,
       "max_height": null,
       "max_width": null,
       "min_height": null,
       "min_width": null,
       "object_fit": null,
       "object_position": null,
       "order": null,
       "overflow": null,
       "padding": null,
       "right": null,
       "top": null,
       "visibility": null,
       "width": null
      }
     },
     "1e2ad1b0b203498197a07ea0ffa1ec36": {
      "model_module": "@jupyter-widgets/base",
      "model_module_version": "2.0.0",
      "model_name": "LayoutModel",
      "state": {
       "_model_module": "@jupyter-widgets/base",
       "_model_module_version": "2.0.0",
       "_model_name": "LayoutModel",
       "_view_count": null,
       "_view_module": "@jupyter-widgets/base",
       "_view_module_version": "2.0.0",
       "_view_name": "LayoutView",
       "align_content": null,
       "align_items": null,
       "align_self": null,
       "border_bottom": null,
       "border_left": null,
       "border_right": null,
       "border_top": null,
       "bottom": null,
       "display": null,
       "flex": null,
       "flex_flow": null,
       "grid_area": null,
       "grid_auto_columns": null,
       "grid_auto_flow": null,
       "grid_auto_rows": null,
       "grid_column": null,
       "grid_gap": null,
       "grid_row": null,
       "grid_template_areas": null,
       "grid_template_columns": null,
       "grid_template_rows": null,
       "height": null,
       "justify_content": null,
       "justify_items": null,
       "left": null,
       "margin": null,
       "max_height": null,
       "max_width": null,
       "min_height": null,
       "min_width": null,
       "object_fit": null,
       "object_position": null,
       "order": null,
       "overflow": null,
       "padding": null,
       "right": null,
       "top": null,
       "visibility": null,
       "width": null
      }
     },
     "24d8321e8218407b9fa3100ccf28abbc": {
      "model_module": "@jupyter-widgets/base",
      "model_module_version": "2.0.0",
      "model_name": "LayoutModel",
      "state": {
       "_model_module": "@jupyter-widgets/base",
       "_model_module_version": "2.0.0",
       "_model_name": "LayoutModel",
       "_view_count": null,
       "_view_module": "@jupyter-widgets/base",
       "_view_module_version": "2.0.0",
       "_view_name": "LayoutView",
       "align_content": null,
       "align_items": null,
       "align_self": null,
       "border_bottom": null,
       "border_left": null,
       "border_right": null,
       "border_top": null,
       "bottom": null,
       "display": null,
       "flex": null,
       "flex_flow": null,
       "grid_area": null,
       "grid_auto_columns": null,
       "grid_auto_flow": null,
       "grid_auto_rows": null,
       "grid_column": null,
       "grid_gap": null,
       "grid_row": null,
       "grid_template_areas": null,
       "grid_template_columns": null,
       "grid_template_rows": null,
       "height": null,
       "justify_content": null,
       "justify_items": null,
       "left": null,
       "margin": null,
       "max_height": null,
       "max_width": null,
       "min_height": null,
       "min_width": null,
       "object_fit": null,
       "object_position": null,
       "order": null,
       "overflow": null,
       "padding": null,
       "right": null,
       "top": null,
       "visibility": null,
       "width": null
      }
     },
     "88c2552b37ad4dbaa3484bd3cdad1d0a": {
      "model_module": "@jupyter-widgets/controls",
      "model_module_version": "2.0.0",
      "model_name": "HTMLModel",
      "state": {
       "_dom_classes": [],
       "_model_module": "@jupyter-widgets/controls",
       "_model_module_version": "2.0.0",
       "_model_name": "HTMLModel",
       "_view_count": null,
       "_view_module": "@jupyter-widgets/controls",
       "_view_module_version": "2.0.0",
       "_view_name": "HTMLView",
       "description": "",
       "description_allow_html": false,
       "layout": "IPY_MODEL_15714f08b8f04bd1b67a71552ca7f3ef",
       "placeholder": "​",
       "style": "IPY_MODEL_cacbc98da41e4f47b2fa0c9abc6e38c6",
       "tabbable": null,
       "tooltip": null,
       "value": "Epoch 250: 100%"
      }
     },
     "945e057c05f248c393fd538c668c5c4c": {
      "model_module": "@jupyter-widgets/controls",
      "model_module_version": "2.0.0",
      "model_name": "HBoxModel",
      "state": {
       "_dom_classes": [],
       "_model_module": "@jupyter-widgets/controls",
       "_model_module_version": "2.0.0",
       "_model_name": "HBoxModel",
       "_view_count": null,
       "_view_module": "@jupyter-widgets/controls",
       "_view_module_version": "2.0.0",
       "_view_name": "HBoxView",
       "box_style": "",
       "children": [
        "IPY_MODEL_88c2552b37ad4dbaa3484bd3cdad1d0a",
        "IPY_MODEL_e5f402c1807748f48743de9ff684a6e0",
        "IPY_MODEL_9c6f0e7b8e874301a471488caf4b267a"
       ],
       "layout": "IPY_MODEL_00dfdd714e3343ca946a0bd32abc7bb9",
       "tabbable": null,
       "tooltip": null
      }
     },
     "9c6f0e7b8e874301a471488caf4b267a": {
      "model_module": "@jupyter-widgets/controls",
      "model_module_version": "2.0.0",
      "model_name": "HTMLModel",
      "state": {
       "_dom_classes": [],
       "_model_module": "@jupyter-widgets/controls",
       "_model_module_version": "2.0.0",
       "_model_name": "HTMLModel",
       "_view_count": null,
       "_view_module": "@jupyter-widgets/controls",
       "_view_module_version": "2.0.0",
       "_view_name": "HTMLView",
       "description": "",
       "description_allow_html": false,
       "layout": "IPY_MODEL_1e2ad1b0b203498197a07ea0ffa1ec36",
       "placeholder": "​",
       "style": "IPY_MODEL_a07fa22f7fa3431a936a89a640346366",
       "tabbable": null,
       "tooltip": null,
       "value": " 500/500 [01:55&lt;00:00,  4.36it/s, datasets_total=1.82, priors_total=-2.31, total=-.487]"
      }
     },
     "a07fa22f7fa3431a936a89a640346366": {
      "model_module": "@jupyter-widgets/controls",
      "model_module_version": "2.0.0",
      "model_name": "HTMLStyleModel",
      "state": {
       "_model_module": "@jupyter-widgets/controls",
       "_model_module_version": "2.0.0",
       "_model_name": "HTMLStyleModel",
       "_view_count": null,
       "_view_module": "@jupyter-widgets/base",
       "_view_module_version": "2.0.0",
       "_view_name": "StyleView",
       "background": null,
       "description_width": "",
       "font_size": null,
       "text_color": null
      }
     },
     "cacbc98da41e4f47b2fa0c9abc6e38c6": {
      "model_module": "@jupyter-widgets/controls",
      "model_module_version": "2.0.0",
      "model_name": "HTMLStyleModel",
      "state": {
       "_model_module": "@jupyter-widgets/controls",
       "_model_module_version": "2.0.0",
       "_model_name": "HTMLStyleModel",
       "_view_count": null,
       "_view_module": "@jupyter-widgets/base",
       "_view_module_version": "2.0.0",
       "_view_name": "StyleView",
       "background": null,
       "description_width": "",
       "font_size": null,
       "text_color": null
      }
     },
     "e5f402c1807748f48743de9ff684a6e0": {
      "model_module": "@jupyter-widgets/controls",
      "model_module_version": "2.0.0",
      "model_name": "FloatProgressModel",
      "state": {
       "_dom_classes": [],
       "_model_module": "@jupyter-widgets/controls",
       "_model_module_version": "2.0.0",
       "_model_name": "FloatProgressModel",
       "_view_count": null,
       "_view_module": "@jupyter-widgets/controls",
       "_view_module_version": "2.0.0",
       "_view_name": "ProgressView",
       "bar_style": "success",
       "description": "",
       "description_allow_html": false,
       "layout": "IPY_MODEL_24d8321e8218407b9fa3100ccf28abbc",
       "max": 500,
       "min": 0,
       "orientation": "horizontal",
       "style": "IPY_MODEL_13adb2c3ac78442dbf18a0aa6b708579",
       "tabbable": null,
       "tooltip": null,
       "value": 500
      }
     }
    },
    "version_major": 2,
    "version_minor": 0
   }
  }
 },
 "nbformat": 4,
 "nbformat_minor": 5
}
